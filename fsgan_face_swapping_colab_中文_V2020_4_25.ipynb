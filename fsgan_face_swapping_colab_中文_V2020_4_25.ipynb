{
  "nbformat": 4,
  "nbformat_minor": 0,
  "metadata": {
    "colab": {
      "name": "fsgan_face_swapping_colab_中文_V2020_4_25）.ipynb",
      "provenance": [],
      "collapsed_sections": [
        "pCA-l2Ykx7Ue"
      ],
      "include_colab_link": true
    },
    "kernelspec": {
      "name": "python3",
      "display_name": "Python 3"
    },
    "accelerator": "GPU",
    "widgets": {
      "application/vnd.jupyter.widget-state+json": {
        "f81eba94600b43619166bb4ce93bae72": {
          "model_module": "@jupyter-widgets/controls",
          "model_name": "HBoxModel",
          "state": {
            "_view_name": "HBoxView",
            "_dom_classes": [],
            "_model_name": "HBoxModel",
            "_view_module": "@jupyter-widgets/controls",
            "_model_module_version": "1.5.0",
            "_view_count": null,
            "_view_module_version": "1.5.0",
            "box_style": "",
            "layout": "IPY_MODEL_c63f797d2dc048d698984806f1705c88",
            "_model_module": "@jupyter-widgets/controls",
            "children": [
              "IPY_MODEL_f91becf4b8714719a785a0f5372c0dfc",
              "IPY_MODEL_3e506ca9886844db9b0ee2b637d70b0b"
            ]
          }
        },
        "c63f797d2dc048d698984806f1705c88": {
          "model_module": "@jupyter-widgets/base",
          "model_name": "LayoutModel",
          "state": {
            "_view_name": "LayoutView",
            "grid_template_rows": null,
            "right": null,
            "justify_content": null,
            "_view_module": "@jupyter-widgets/base",
            "overflow": null,
            "_model_module_version": "1.2.0",
            "_view_count": null,
            "flex_flow": null,
            "width": null,
            "min_width": null,
            "border": null,
            "align_items": null,
            "bottom": null,
            "_model_module": "@jupyter-widgets/base",
            "top": null,
            "grid_column": null,
            "overflow_y": null,
            "overflow_x": null,
            "grid_auto_flow": null,
            "grid_area": null,
            "grid_template_columns": null,
            "flex": null,
            "_model_name": "LayoutModel",
            "justify_items": null,
            "grid_row": null,
            "max_height": null,
            "align_content": null,
            "visibility": null,
            "align_self": null,
            "height": null,
            "min_height": null,
            "padding": null,
            "grid_auto_rows": null,
            "grid_gap": null,
            "max_width": null,
            "order": null,
            "_view_module_version": "1.2.0",
            "grid_template_areas": null,
            "object_position": null,
            "object_fit": null,
            "grid_auto_columns": null,
            "margin": null,
            "display": null,
            "left": null
          }
        },
        "f91becf4b8714719a785a0f5372c0dfc": {
          "model_module": "@jupyter-widgets/controls",
          "model_name": "IntProgressModel",
          "state": {
            "_view_name": "ProgressView",
            "style": "IPY_MODEL_e3d722117891406f9fade6bb49e4dcee",
            "_dom_classes": [],
            "description": "100%",
            "_model_name": "IntProgressModel",
            "bar_style": "success",
            "max": 241530880,
            "_view_module": "@jupyter-widgets/controls",
            "_model_module_version": "1.5.0",
            "value": 241530880,
            "_view_count": null,
            "_view_module_version": "1.5.0",
            "orientation": "horizontal",
            "min": 0,
            "description_tooltip": null,
            "_model_module": "@jupyter-widgets/controls",
            "layout": "IPY_MODEL_b88efe90a0ee4691a3096e04cb4b8b64"
          }
        },
        "3e506ca9886844db9b0ee2b637d70b0b": {
          "model_module": "@jupyter-widgets/controls",
          "model_name": "HTMLModel",
          "state": {
            "_view_name": "HTMLView",
            "style": "IPY_MODEL_4b26bec99ad0427e987a02645411f5d3",
            "_dom_classes": [],
            "description": "",
            "_model_name": "HTMLModel",
            "placeholder": "​",
            "_view_module": "@jupyter-widgets/controls",
            "_model_module_version": "1.5.0",
            "value": " 230M/230M [00:06&lt;00:00, 38.9MB/s]",
            "_view_count": null,
            "_view_module_version": "1.5.0",
            "description_tooltip": null,
            "_model_module": "@jupyter-widgets/controls",
            "layout": "IPY_MODEL_d317cb8d6e204cc3b88fb95459dea16a"
          }
        },
        "e3d722117891406f9fade6bb49e4dcee": {
          "model_module": "@jupyter-widgets/controls",
          "model_name": "ProgressStyleModel",
          "state": {
            "_view_name": "StyleView",
            "_model_name": "ProgressStyleModel",
            "description_width": "initial",
            "_view_module": "@jupyter-widgets/base",
            "_model_module_version": "1.5.0",
            "_view_count": null,
            "_view_module_version": "1.2.0",
            "bar_color": null,
            "_model_module": "@jupyter-widgets/controls"
          }
        },
        "b88efe90a0ee4691a3096e04cb4b8b64": {
          "model_module": "@jupyter-widgets/base",
          "model_name": "LayoutModel",
          "state": {
            "_view_name": "LayoutView",
            "grid_template_rows": null,
            "right": null,
            "justify_content": null,
            "_view_module": "@jupyter-widgets/base",
            "overflow": null,
            "_model_module_version": "1.2.0",
            "_view_count": null,
            "flex_flow": null,
            "width": null,
            "min_width": null,
            "border": null,
            "align_items": null,
            "bottom": null,
            "_model_module": "@jupyter-widgets/base",
            "top": null,
            "grid_column": null,
            "overflow_y": null,
            "overflow_x": null,
            "grid_auto_flow": null,
            "grid_area": null,
            "grid_template_columns": null,
            "flex": null,
            "_model_name": "LayoutModel",
            "justify_items": null,
            "grid_row": null,
            "max_height": null,
            "align_content": null,
            "visibility": null,
            "align_self": null,
            "height": null,
            "min_height": null,
            "padding": null,
            "grid_auto_rows": null,
            "grid_gap": null,
            "max_width": null,
            "order": null,
            "_view_module_version": "1.2.0",
            "grid_template_areas": null,
            "object_position": null,
            "object_fit": null,
            "grid_auto_columns": null,
            "margin": null,
            "display": null,
            "left": null
          }
        },
        "4b26bec99ad0427e987a02645411f5d3": {
          "model_module": "@jupyter-widgets/controls",
          "model_name": "DescriptionStyleModel",
          "state": {
            "_view_name": "StyleView",
            "_model_name": "DescriptionStyleModel",
            "description_width": "",
            "_view_module": "@jupyter-widgets/base",
            "_model_module_version": "1.5.0",
            "_view_count": null,
            "_view_module_version": "1.2.0",
            "_model_module": "@jupyter-widgets/controls"
          }
        },
        "d317cb8d6e204cc3b88fb95459dea16a": {
          "model_module": "@jupyter-widgets/base",
          "model_name": "LayoutModel",
          "state": {
            "_view_name": "LayoutView",
            "grid_template_rows": null,
            "right": null,
            "justify_content": null,
            "_view_module": "@jupyter-widgets/base",
            "overflow": null,
            "_model_module_version": "1.2.0",
            "_view_count": null,
            "flex_flow": null,
            "width": null,
            "min_width": null,
            "border": null,
            "align_items": null,
            "bottom": null,
            "_model_module": "@jupyter-widgets/base",
            "top": null,
            "grid_column": null,
            "overflow_y": null,
            "overflow_x": null,
            "grid_auto_flow": null,
            "grid_area": null,
            "grid_template_columns": null,
            "flex": null,
            "_model_name": "LayoutModel",
            "justify_items": null,
            "grid_row": null,
            "max_height": null,
            "align_content": null,
            "visibility": null,
            "align_self": null,
            "height": null,
            "min_height": null,
            "padding": null,
            "grid_auto_rows": null,
            "grid_gap": null,
            "max_width": null,
            "order": null,
            "_view_module_version": "1.2.0",
            "grid_template_areas": null,
            "object_position": null,
            "object_fit": null,
            "grid_auto_columns": null,
            "margin": null,
            "display": null,
            "left": null
          }
        }
      }
    }
  },
  "cells": [
    {
      "cell_type": "markdown",
      "metadata": {
        "id": "view-in-github",
        "colab_type": "text"
      },
      "source": [
        "<a href=\"https://colab.research.google.com/github/jjandnn/fsgan/blob/master/fsgan_face_swapping_colab_%E4%B8%AD%E6%96%87_V2020_4_25.ipynb\" target=\"_parent\"><img src=\"https://colab.research.google.com/assets/colab-badge.svg\" alt=\"Open In Colab\"/></a>"
      ]
    },
    {
      "cell_type": "markdown",
      "metadata": {
        "id": "1SZW9d7yu4Al",
        "colab_type": "text"
      },
      "source": [
        "<a href=\"https://github.com/jjandnn/fsgan/blob/master/fsgan_face_swapping_colab_%E4%B8%AD%E6%96%87_V2020_4_25%EF%BC%89.ipynb\" target=\"_parent\">\n",
        "  <img src=\"https://colab.research.google.com/assets/colab-badge.svg\" alt=\"Open In Colab\"/>\n",
        "</a>\n",
        "\n",
        "## FSGAN Face Swapping Demo\n",
        "填写 [这份表单](https://docs.google.com/forms/d/e/1FAIpQLScyyNWoFvyaxxfyaPLnCIAxXgdxLEMwR9Sayjh3JpWseuYlOA/viewform?usp=sf_link),\n",
        "收到邮件后，将 FSGAN 共享目录的快捷方式添加到你的谷歌云盘根目录中：\n",
        "\n",
        "![Add to drive](https://raw.githubusercontent.com/wiki/YuvalNirkin/fsgan/media/add_to_drive.jpg)\n",
        "\n",
        "\n",
        "\n",
        "\n",
        "特别鸣谢： 我们感谢 Dr. Eyal Gruss, [wangchao0899](https://github.com/wangchao0899)， [杜俊](https://github.com/jjandnn)， 和 [zhuhaozh](https://github.com/zhuhaozh) 对于这个 Demo 的帮助。"
      ]
    },
    {
      "cell_type": "code",
      "metadata": {
        "id": "95qjm6RkFX1i",
        "colab_type": "code",
        "outputId": "1c2b12bc-3a72-42c3-d57c-7987be55417b",
        "cellView": "form",
        "colab": {
          "base_uri": "https://localhost:8080/",
          "height": 323
        }
      },
      "source": [
        "#@title 我们需要 Tesla P100 或 T4 的 GPU 来运行这个 demo，先运行本 cell 确认一下设备：\n",
        "#@markdown 如果不是，请点击工具栏 “ 代码执行程序 -> 将该运行时恢复至出厂设置 “ ，然后重新连接。 \n",
        "!nvidia-smi"
      ],
      "execution_count": 0,
      "outputs": [
        {
          "output_type": "stream",
          "text": [
            "Sun Apr 26 18:24:32 2020       \n",
            "+-----------------------------------------------------------------------------+\n",
            "| NVIDIA-SMI 440.64.00    Driver Version: 418.67       CUDA Version: 10.1     |\n",
            "|-------------------------------+----------------------+----------------------+\n",
            "| GPU  Name        Persistence-M| Bus-Id        Disp.A | Volatile Uncorr. ECC |\n",
            "| Fan  Temp  Perf  Pwr:Usage/Cap|         Memory-Usage | GPU-Util  Compute M. |\n",
            "|===============================+======================+======================|\n",
            "|   0  Tesla P100-PCIE...  Off  | 00000000:00:04.0 Off |                    0 |\n",
            "| N/A   36C    P0    28W / 250W |      0MiB / 16280MiB |      0%      Default |\n",
            "+-------------------------------+----------------------+----------------------+\n",
            "                                                                               \n",
            "+-----------------------------------------------------------------------------+\n",
            "| Processes:                                                       GPU Memory |\n",
            "|  GPU       PID   Type   Process name                             Usage      |\n",
            "|=============================================================================|\n",
            "|  No running processes found                                                 |\n",
            "+-----------------------------------------------------------------------------+\n"
          ],
          "name": "stdout"
        }
      ]
    },
    {
      "cell_type": "code",
      "metadata": {
        "id": "orFKdoubPfeX",
        "colab_type": "code",
        "outputId": "cf0f0bb9-2d7f-40a8-b378-caf3c49a290e",
        "cellView": "form",
        "colab": {
          "base_uri": "https://localhost:8080/",
          "height": 127
        }
      },
      "source": [
        "#@title 挂载云盘\n",
        "!rm -rf sample_data\n",
        "from google.colab import drive\n",
        "drive.mount('/content/drive')"
      ],
      "execution_count": 0,
      "outputs": [
        {
          "output_type": "stream",
          "text": [
            "Go to this URL in a browser: https://accounts.google.com/o/oauth2/auth?client_id=947318989803-6bn6qk8qdgf4n4g3pfee6491hc0brc4i.apps.googleusercontent.com&redirect_uri=urn%3aietf%3awg%3aoauth%3a2.0%3aoob&response_type=code&scope=email%20https%3a%2f%2fwww.googleapis.com%2fauth%2fdocs.test%20https%3a%2f%2fwww.googleapis.com%2fauth%2fdrive%20https%3a%2f%2fwww.googleapis.com%2fauth%2fdrive.photos.readonly%20https%3a%2f%2fwww.googleapis.com%2fauth%2fpeopleapi.readonly\n",
            "\n",
            "Enter your authorization code:\n",
            "··········\n",
            "Mounted at /content/drive\n"
          ],
          "name": "stdout"
        }
      ]
    },
    {
      "cell_type": "markdown",
      "metadata": {
        "id": "pCA-l2Ykx7Ue",
        "colab_type": "text"
      },
      "source": [
        "## 首次安装需运行"
      ]
    },
    {
      "cell_type": "code",
      "metadata": {
        "id": "Ry-dX21f1ItL",
        "colab_type": "code",
        "cellView": "form",
        "outputId": "1bd14de5-fba4-4a34-a6f4-fd2d1788f976",
        "colab": {
          "base_uri": "https://localhost:8080/",
          "height": 35
        }
      },
      "source": [
        "#@markdown 首次安装需要安装的部分，之后使用则不再需要运行本 cell\n",
        "\n",
        "#@markdown 项目目录为： /content/drive/My Drive/fsganLab\n",
        "!mkdir -p /content/drive/My\\ Drive/fsganLab\n",
        "\n",
        "%cd /content/drive/My Drive/fsganLab/\n",
        "!git clone https://github.com/YuvalNirkin/face_detection_dsfd\n",
        "!git clone https://github.com/YuvalNirkin/fsgan.git\n",
        "!mkdir -p /content/drive/My\\ Drive/fsganLab/data\n",
        "!cp /content/drive/My\\ Drive/fsganLab/fsgan/docs/examples/shinzo_abe.mp4 /content/drive/My\\ Drive/fsganLab/data/source.mp4\n",
        "!cp /content/drive/My\\ Drive/fsganLab/fsgan/docs/examples/conan_obrien.mp4 /content/drive/My\\ Drive/fsganLab/data/target.mp4\n",
        "print ('基础程序已经安装，请勿重复安装')"
      ],
      "execution_count": 0,
      "outputs": [
        {
          "output_type": "stream",
          "text": [
            "基础程序已经安装，请勿重复安装\n"
          ],
          "name": "stdout"
        }
      ]
    },
    {
      "cell_type": "markdown",
      "metadata": {
        "id": "e6cugJfFypU2",
        "colab_type": "text"
      },
      "source": [
        "## 每次都需要运行的部分"
      ]
    },
    {
      "cell_type": "code",
      "metadata": {
        "id": "Mu1L4H_tvXX-",
        "colab_type": "code",
        "outputId": "66ab5fa3-400b-4dad-dd7a-3e4a5f76691f",
        "cellView": "form",
        "colab": {
          "base_uri": "https://localhost:8080/",
          "height": 35
        }
      },
      "source": [
        "import sys\n",
        "from IPython.display import HTML, clear_output\n",
        "from base64 import b64encode\n",
        "import shutil\n",
        "\n",
        "#@markdown 基础依赖的安装\n",
        "\n",
        "# 安装所需要的依赖项\n",
        "!wget https://repo.anaconda.com/miniconda/Miniconda3-latest-Linux-x86_64.sh\n",
        "!bash Miniconda3-latest-Linux-x86_64.sh -bfp /usr/local\n",
        "!rm Miniconda3-latest-Linux-x86_64.sh\n",
        "\n",
        "sys.path +=['/usr/local/lib/python3.7/site-packages','/content/drive/My Drive/fsganLab']\n",
        "# 依赖，请勿修改安装顺序\n",
        "!conda install pytorch torchvision cudatoolkit=10.1 -c pytorch -y\n",
        "!conda install -c conda-forge yacs -y\n",
        "!pip install opencv-python ffmpeg-python youtube-dl\n",
        "\n",
        "# 定义音频编码器与显示视频的函数\n",
        "import ffmpeg\n",
        "def encode_audio(video_path, audio_path, output_path):\n",
        "  ffmpeg.concat(ffmpeg.input(video_path), ffmpeg.input(audio_path), v=1, a=1) \\\n",
        "    .output(output_path, strict='-2').run(overwrite_output=True)\n",
        "\n",
        "\n",
        "def display_video(video_path, width=640, clear=True):\n",
        "  vid_data = open(video_path,'rb').read()\n",
        "  vid_url = 'data:video/mp4;base64,' + b64encode(vid_data).decode()\n",
        "\n",
        "  if clear:\n",
        "    clear_output()\n",
        "\n",
        "  return HTML(f\"\"\"\n",
        "  <video width={width} controls>\n",
        "    <source src={vid_url} type=\"video/mp4\">\n",
        "  </video>\n",
        "  \"\"\")\n",
        "\n",
        "delete_log = True #@param {type:\"boolean\"}\n",
        "if delete_log == True:\n",
        "  clear_output()\n",
        "  print ('依赖已安装完毕')"
      ],
      "execution_count": 0,
      "outputs": [
        {
          "output_type": "stream",
          "text": [
            "依赖已安装完毕\n"
          ],
          "name": "stdout"
        }
      ]
    },
    {
      "cell_type": "code",
      "metadata": {
        "id": "-2RLXSOPBEnZ",
        "colab_type": "code",
        "outputId": "472c5947-6d0d-4f37-f279-070f3594316c",
        "cellView": "form",
        "colab": {
          "base_uri": "https://localhost:8080/",
          "height": 35,
          "referenced_widgets": [
            "f81eba94600b43619166bb4ce93bae72",
            "c63f797d2dc048d698984806f1705c88",
            "f91becf4b8714719a785a0f5372c0dfc",
            "3e506ca9886844db9b0ee2b637d70b0b",
            "e3d722117891406f9fade6bb49e4dcee",
            "b88efe90a0ee4691a3096e04cb4b8b64",
            "4b26bec99ad0427e987a02645411f5d3",
            "d317cb8d6e204cc3b88fb95459dea16a"
          ]
        }
      },
      "source": [
        "import os\n",
        "from fsgan.inference.swap import FaceSwapping\n",
        "from fsgan.criterions.vgg_loss import VGGLoss\n",
        "\n",
        "#@markdown 权重初始化，重启后需运行。每次改动参数，也需要再次运行。\n",
        "\n",
        "#@markdown ---\n",
        "#@markdown 权重文件夹的路径 （确保已经在您的云盘中，如果没有请点击填写 [这份表单](https://docs.google.com/forms/d/e/1FAIpQLScyyNWoFvyaxxfyaPLnCIAxXgdxLEMwR9Sayjh3JpWseuYlOA/viewform?usp=sf_link)）：\n",
        "weights_dir = '/content/drive/My Drive/fsganLab/weights' #@param {type:\"string\"}\n",
        "#@markdown 选择模型微调迭代（finetune iterations）的次数：\n",
        "finetune_iterations = 800 #@param {type:\"slider\", min:100, max:2000, step:1}\n",
        "#@markdown 打勾，则将嘴巴内部从分割中移除：\n",
        "seg_remove_mouth = True #@param {type:\"boolean\"}\n",
        "#@markdown ---\n",
        "\n",
        "\n",
        "detection_model = os.path.join(weights_dir, 'v2/WIDERFace_DSFD_RES152.pth')\n",
        "pose_model = os.path.join(weights_dir, 'shared/hopenet_robust_alpha1.pth')\n",
        "lms_model = os.path.join(weights_dir, 'v2/hr18_wflw_landmarks.pth')\n",
        "seg_model = os.path.join(weights_dir, 'v2/celeba_unet_256_1_2_segmentation_v2.pth')\n",
        "reenactment_model = os.path.join(weights_dir, 'v2/nfv_msrunet_256_1_2_reenactment_v2.1.pth')\n",
        "completion_model = os.path.join(weights_dir, 'v2/ijbc_msrunet_256_1_2_inpainting_v2.pth')\n",
        "blending_model = os.path.join(weights_dir, 'v2/ijbc_msrunet_256_1_2_blending_v2.pth')\n",
        "criterion_id_path = os.path.join(weights_dir, 'v2/vggface2_vgg19_256_1_2_id.pth')\n",
        "criterion_id = VGGLoss(criterion_id_path)\n",
        "\n",
        "\n",
        "face_swapping = FaceSwapping(\n",
        "    detection_model=detection_model, pose_model=pose_model, lms_model=lms_model,\n",
        "    seg_model=seg_model, reenactment_model=reenactment_model,\n",
        "    completion_model=completion_model, blending_model=blending_model,\n",
        "    criterion_id=criterion_id,\n",
        "    finetune=True, finetune_save=True, finetune_iterations=finetune_iterations,\n",
        "    seg_remove_mouth=finetune_iterations, batch_size=16, seg_batch_size=48,\n",
        "    encoder_codec='mp4v')\n",
        "\n",
        "delete_log = True #@param {type:\"boolean\"}\n",
        "if delete_log == True:\n",
        "    clear_output()\n",
        "    print('权重初始化完毕')"
      ],
      "execution_count": 0,
      "outputs": [
        {
          "output_type": "stream",
          "text": [
            "权重初始化完毕\n"
          ],
          "name": "stdout"
        }
      ]
    },
    {
      "cell_type": "markdown",
      "metadata": {
        "id": "QmSQATuPAxvt",
        "colab_type": "text"
      },
      "source": [
        "### 可选：从YouTube下载视频\n",
        "您可以更改源视频的 URL。\n",
        "\n",
        "选择开始和结束的时间，格式为：[hh:mm:ss]\n",
        "\n",
        "处理后的文件存储默认路径为 ：/content/drive/My Drive/fsganLab/data/\n",
        "\n",
        "文件名为 ：下表 used_for 选项的选择。 例，选 source ，则为 source.mp4\n",
        "\n"
      ]
    },
    {
      "cell_type": "code",
      "metadata": {
        "id": "Z2xnaO9HBGan",
        "colab_type": "code",
        "cellView": "form",
        "colab": {}
      },
      "source": [
        "youtube_url = 'https://www.youtube.com/watch?v=5-s3ANu4eMs' #@param {type:\"string\"}\n",
        "used_for = 'target' #@param [\"source\", \"target\"] {type:\"string\"}\n",
        "cut_start = '00:01:40' #@param {type:\"string\"}\n",
        "cut_end = '00:01:50' #@param {type:\"string\"}\n",
        "\n",
        "shutil.rmtree('/content/drive/My Drive/fsganLab/data/'+ used_for)\n",
        "!youtube-dl $youtube_url --merge-output-format mp4 -o /content/youtube_tmp.mp4\n",
        "if used_for == 'source':\n",
        "  !ffmpeg -y -i /content/youtube_tmp.mp4 -ss $cut_start -to $cut_end -r 25 /content/drive/My\\ Drive/fsganLab/data/source.mp4\n",
        "else:\n",
        "  !ffmpeg -y -i /content/youtube_tmp.mp4 -ss $cut_start -to $cut_end -r 25 /content/drive/My\\ Drive/fsganLab/data/target.mp4\n",
        "!rm /content/youtube_tmp.mp4\n",
        "\n",
        "display_video('/content/drive/My Drive/fsganLab/data/'+ used_for +'.mp4')\n"
      ],
      "execution_count": 0,
      "outputs": []
    },
    {
      "cell_type": "markdown",
      "metadata": {
        "id": "7OMR5ggj9jEF",
        "colab_type": "text"
      },
      "source": [
        "## 换脸"
      ]
    },
    {
      "cell_type": "code",
      "metadata": {
        "id": "nNbgTpabri-g",
        "colab_type": "code",
        "outputId": "b4870111-7c5a-4798-fd32-f10a8802551d",
        "cellView": "form",
        "colab": {
          "base_uri": "https://localhost:8080/",
          "height": 380
        }
      },
      "source": [
        "#@markdown ---\n",
        "#@markdown 切换是否选择微调生成器：\n",
        "finetune = True #@param {type:\"boolean\"}\n",
        "#@markdown 填写源视频路径（ 直接复制左侧目录中的文件路径 ）：\n",
        "source_path = '/content/drive/My Drive/fsganLab/data/source.mp4'#@param {type:\"string\"}\n",
        "#@markdown 填写源视频采用的方案 [ \"longest\" | sequence number ]：\n",
        "select_source = 'longest' #@param {type:\"string\"}\n",
        "#@markdown 填写目标视频路径（ 直接复制左侧目录中的文件路径 ）：\n",
        "target_path = '/content/drive/My Drive/fsganLab/data/target.mp4'#@param {type:\"string\"}\n",
        "#@markdown 填写目标视频采用的方案 [ \"longest\" | sequence number ]：\n",
        "select_target = 'longest' #@param {type:\"string\"}\n",
        "#@markdown ---\n",
        "\n",
        "\n",
        "output_tmp_path = '/content/drive/My Drive/fsganLab/data/output_tmp.mp4'\n",
        "output_path = source_path.replace('.mp4','_to_') + target_path.replace('/content/drive/My Drive/fsganLab/data/','')\n",
        "face_swapping(source_path, target_path, output_tmp_path,\n",
        "              select_source, select_target, finetune)\n",
        "\n",
        "# 编码音频并显示结果\n",
        "encode_audio(output_tmp_path, target_path, output_path)\n",
        "os.remove(output_tmp_path)\n",
        "display_video(output_path)"
      ],
      "execution_count": 0,
      "outputs": []
    }
  ]
}